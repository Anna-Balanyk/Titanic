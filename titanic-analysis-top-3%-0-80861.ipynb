{
 "cells": [
  {
   "cell_type": "markdown",
   "metadata": {
    "papermill": {
     "duration": 0.016366,
     "end_time": "2020-10-11T14:07:59.951138",
     "exception": false,
     "start_time": "2020-10-11T14:07:59.934772",
     "status": "completed"
    },
    "tags": []
   },
   "source": [
    "So, Titanic. Let me say, that this is both great and tricky problem for beginners to learn along the way. I am a beginner ML engineer, thus can verify it. I have more than 160 saves of this work, totally changed the code 3 times, starting with basic features choice to adding more features and ending up at reducing features. \n",
    "\n",
    "In this notebook I will show a bit of basic EDA with data visualizations, not going to deep into feature engineering (the main explanation of the whole process is below) and train the model with Random Forest Classifier. \n",
    "Let's dive into it!\n",
    "\n",
    "**1. PassengerID**\n",
    "\n",
    "Totally useless feature for modeling, it will be dropped by default.\n",
    "\n",
    "**2. Survived**\n",
    "\n",
    "That is our label, it will be used later for feature correlations. \n",
    "\n",
    "**3. Pclass**\n",
    "\n",
    "Categorical feature, that can be used in a model with OneHotEncoder or without it. I am writing about RF only now. In the previous versions I used this feature with get_dummies, thus had three more features in the feature list. It demonstrates class of passengers' cabin. Very important one to understand  the difference of surviva rate. Well, that is too obvious. \n",
    "\n",
    "**4. Name**\n",
    "\n",
    "In the first versions I used classical beginner approach - getting titles from names to understand which men could survive. It turned out that it was helpful, basically, I got another Sex features that gets weights of dying men. The result was 79,9% accuracy (mean the public score). The second way was adding Surnames. Feature list after get_dummies was too big (over 900 positions), but it didn't help at all, the result was not better than 78% accuracy. in the last version feature \"Titles\" was used as well.\n",
    "\n",
    "**5. Sex**\n",
    "\n",
    "Obvious as well. \"Women and children first\". i will provide some code to see that men had less chances to survive, of course.\n",
    "\n",
    "**6. Age**\n",
    "\n",
    "The way of processing this feature is the next one:\n",
    "1) using mean values to fill mising values\n",
    "2) using median (that really improved the score)\n",
    "3) adding bins (another improvement of the score)\n",
    "4) creating a function to fill missing values using Sex and Pclass, using median values of these groups\n",
    "5) creating a function to fill missing values using Title feature and median. \n",
    "\n",
    "**7. SibSp and Parch**\n",
    "\n",
    "The quantity of siblings, spouses, parents, children. Used it for creating features like FamilySize or IsAlone to get chances of survival depending on having a family or not. It happened that using all of them at once wasn't helpful, just a noise, no improvement to the model. I experimented with using only SibSp and  Parch, adding FamilySize or IsAlone to them, it didn't help. The answer was revealed later - if you have a lot of highly correlated features between themselves, it's better to use one-two of them. In this version there is Family_Size feature.\n",
    "\n",
    "**8.Ticket and Fare**\n",
    "\n",
    "Using this feature wasn't very helpful in terms of get_dummies. A lot of feature, some of them had some values in feature_importance table (because there were big families who used one ticket for all members of the family, it also included not only family members, but also nannys or servants etc). It had more helpful use in pair with **Fare** feature, because it was revealed that big families  in the third class have payed pretty big money that could be equal to second class prices. That is why I decided those were prices for the whole ticket and not a fare per person. Divided Fare/Ticket_Frequency and got Fare_per_one. \n",
    "\n",
    "**9. Cabin, Embarked**\n",
    "\n",
    "Spent a lot of time on dealing with them - creating Decks, grouping those decks in different combinations, but it seems, the prefiction power of these features is not very high. \n",
    "\n",
    "About algorithms: used Random Forest, XGBoost, SVM, KNN. My personal favourite for this task is Random Forest, it did the best job, thus I lest only the code for using this particular algorithm. "
   ]
  },
  {
   "cell_type": "code",
   "execution_count": 1,
   "metadata": {
    "_cell_guid": "b1076dfc-b9ad-4769-8c92-a6c4dae69d19",
    "_uuid": "8f2839f25d086af736a60e9eeb907d3b93b6e0e5",
    "execution": {
     "iopub.execute_input": "2020-10-11T14:07:59.989891Z",
     "iopub.status.busy": "2020-10-11T14:07:59.989148Z",
     "iopub.status.idle": "2020-10-11T14:07:59.993838Z",
     "shell.execute_reply": "2020-10-11T14:07:59.992448Z"
    },
    "papermill": {
     "duration": 0.026995,
     "end_time": "2020-10-11T14:07:59.993970",
     "exception": false,
     "start_time": "2020-10-11T14:07:59.966975",
     "status": "completed"
    },
    "tags": []
   },
   "outputs": [
    {
     "name": "stdout",
     "output_type": "stream",
     "text": [
      "/kaggle/input/titanic/train.csv\n",
      "/kaggle/input/titanic/gender_submission.csv\n",
      "/kaggle/input/titanic/test.csv\n"
     ]
    }
   ],
   "source": [
    "# This Python 3 environment comes with many helpful analytics libraries installed\n",
    "# It is defined by the kaggle/python Docker image: https://github.com/kaggle/docker-python\n",
    "# For example, here's several helpful packages to load\n",
    "\n",
    "import numpy as np # linear algebra\n",
    "import pandas as pd # data processing, CSV file I/O (e.g. pd.read_csv)\n",
    "\n",
    "# Input data files are available in the read-only \"../input/\" directory\n",
    "# For example, running this (by clicking run or pressing Shift+Enter) will list all files under the input directory\n",
    "\n",
    "import os\n",
    "for dirname, _, filenames in os.walk('/kaggle/input'):\n",
    "    for filename in filenames:\n",
    "        print(os.path.join(dirname, filename))\n",
    "\n",
    "# You can write up to 5GB to the current directory (/kaggle/working/) that gets preserved as output when you create a version using \"Save & Run All\" \n",
    "# You can also write temporary files to /kaggle/temp/, but they won't be saved outside of the current session"
   ]
  },
  {
   "cell_type": "code",
   "execution_count": 2,
   "metadata": {
    "execution": {
     "iopub.execute_input": "2020-10-11T14:08:00.033151Z",
     "iopub.status.busy": "2020-10-11T14:08:00.032655Z",
     "iopub.status.idle": "2020-10-11T14:08:01.394092Z",
     "shell.execute_reply": "2020-10-11T14:08:01.393567Z"
    },
    "papermill": {
     "duration": 1.383499,
     "end_time": "2020-10-11T14:08:01.394181",
     "exception": false,
     "start_time": "2020-10-11T14:08:00.010682",
     "status": "completed"
    },
    "tags": []
   },
   "outputs": [],
   "source": [
    "#Importing modules and libraries for data visualizations, algorithm, data splitting and testing, accuracy score\n",
    "import seaborn as sns\n",
    "import matplotlib as plt\n",
    "%matplotlib inline\n",
    "\n",
    "import numpy as np\n",
    "import pandas as pd\n",
    "\n",
    "from sklearn.metrics import accuracy_score\n",
    "from sklearn.ensemble import RandomForestClassifier \n",
    "from sklearn.model_selection import train_test_split \n",
    "\n",
    "from sklearn.preprocessing import LabelEncoder"
   ]
  },
  {
   "cell_type": "code",
   "execution_count": 3,
   "metadata": {
    "execution": {
     "iopub.execute_input": "2020-10-11T14:08:01.434180Z",
     "iopub.status.busy": "2020-10-11T14:08:01.433657Z",
     "iopub.status.idle": "2020-10-11T14:08:01.478318Z",
     "shell.execute_reply": "2020-10-11T14:08:01.478670Z"
    },
    "papermill": {
     "duration": 0.06718,
     "end_time": "2020-10-11T14:08:01.478787",
     "exception": false,
     "start_time": "2020-10-11T14:08:01.411607",
     "status": "completed"
    },
    "tags": []
   },
   "outputs": [
    {
     "data": {
      "text/html": [
       "<div>\n",
       "<style scoped>\n",
       "    .dataframe tbody tr th:only-of-type {\n",
       "        vertical-align: middle;\n",
       "    }\n",
       "\n",
       "    .dataframe tbody tr th {\n",
       "        vertical-align: top;\n",
       "    }\n",
       "\n",
       "    .dataframe thead th {\n",
       "        text-align: right;\n",
       "    }\n",
       "</style>\n",
       "<table border=\"1\" class=\"dataframe\">\n",
       "  <thead>\n",
       "    <tr style=\"text-align: right;\">\n",
       "      <th></th>\n",
       "      <th>PassengerId</th>\n",
       "      <th>Survived</th>\n",
       "      <th>Pclass</th>\n",
       "      <th>Name</th>\n",
       "      <th>Sex</th>\n",
       "      <th>Age</th>\n",
       "      <th>SibSp</th>\n",
       "      <th>Parch</th>\n",
       "      <th>Ticket</th>\n",
       "      <th>Fare</th>\n",
       "      <th>Cabin</th>\n",
       "      <th>Embarked</th>\n",
       "    </tr>\n",
       "  </thead>\n",
       "  <tbody>\n",
       "    <tr>\n",
       "      <th>0</th>\n",
       "      <td>1</td>\n",
       "      <td>0</td>\n",
       "      <td>3</td>\n",
       "      <td>Braund, Mr. Owen Harris</td>\n",
       "      <td>male</td>\n",
       "      <td>22.0</td>\n",
       "      <td>1</td>\n",
       "      <td>0</td>\n",
       "      <td>A/5 21171</td>\n",
       "      <td>7.2500</td>\n",
       "      <td>NaN</td>\n",
       "      <td>S</td>\n",
       "    </tr>\n",
       "    <tr>\n",
       "      <th>1</th>\n",
       "      <td>2</td>\n",
       "      <td>1</td>\n",
       "      <td>1</td>\n",
       "      <td>Cumings, Mrs. John Bradley (Florence Briggs Th...</td>\n",
       "      <td>female</td>\n",
       "      <td>38.0</td>\n",
       "      <td>1</td>\n",
       "      <td>0</td>\n",
       "      <td>PC 17599</td>\n",
       "      <td>71.2833</td>\n",
       "      <td>C85</td>\n",
       "      <td>C</td>\n",
       "    </tr>\n",
       "    <tr>\n",
       "      <th>2</th>\n",
       "      <td>3</td>\n",
       "      <td>1</td>\n",
       "      <td>3</td>\n",
       "      <td>Heikkinen, Miss. Laina</td>\n",
       "      <td>female</td>\n",
       "      <td>26.0</td>\n",
       "      <td>0</td>\n",
       "      <td>0</td>\n",
       "      <td>STON/O2. 3101282</td>\n",
       "      <td>7.9250</td>\n",
       "      <td>NaN</td>\n",
       "      <td>S</td>\n",
       "    </tr>\n",
       "    <tr>\n",
       "      <th>3</th>\n",
       "      <td>4</td>\n",
       "      <td>1</td>\n",
       "      <td>1</td>\n",
       "      <td>Futrelle, Mrs. Jacques Heath (Lily May Peel)</td>\n",
       "      <td>female</td>\n",
       "      <td>35.0</td>\n",
       "      <td>1</td>\n",
       "      <td>0</td>\n",
       "      <td>113803</td>\n",
       "      <td>53.1000</td>\n",
       "      <td>C123</td>\n",
       "      <td>S</td>\n",
       "    </tr>\n",
       "    <tr>\n",
       "      <th>4</th>\n",
       "      <td>5</td>\n",
       "      <td>0</td>\n",
       "      <td>3</td>\n",
       "      <td>Allen, Mr. William Henry</td>\n",
       "      <td>male</td>\n",
       "      <td>35.0</td>\n",
       "      <td>0</td>\n",
       "      <td>0</td>\n",
       "      <td>373450</td>\n",
       "      <td>8.0500</td>\n",
       "      <td>NaN</td>\n",
       "      <td>S</td>\n",
       "    </tr>\n",
       "    <tr>\n",
       "      <th>5</th>\n",
       "      <td>6</td>\n",
       "      <td>0</td>\n",
       "      <td>3</td>\n",
       "      <td>Moran, Mr. James</td>\n",
       "      <td>male</td>\n",
       "      <td>NaN</td>\n",
       "      <td>0</td>\n",
       "      <td>0</td>\n",
       "      <td>330877</td>\n",
       "      <td>8.4583</td>\n",
       "      <td>NaN</td>\n",
       "      <td>Q</td>\n",
       "    </tr>\n",
       "    <tr>\n",
       "      <th>6</th>\n",
       "      <td>7</td>\n",
       "      <td>0</td>\n",
       "      <td>1</td>\n",
       "      <td>McCarthy, Mr. Timothy J</td>\n",
       "      <td>male</td>\n",
       "      <td>54.0</td>\n",
       "      <td>0</td>\n",
       "      <td>0</td>\n",
       "      <td>17463</td>\n",
       "      <td>51.8625</td>\n",
       "      <td>E46</td>\n",
       "      <td>S</td>\n",
       "    </tr>\n",
       "    <tr>\n",
       "      <th>7</th>\n",
       "      <td>8</td>\n",
       "      <td>0</td>\n",
       "      <td>3</td>\n",
       "      <td>Palsson, Master. Gosta Leonard</td>\n",
       "      <td>male</td>\n",
       "      <td>2.0</td>\n",
       "      <td>3</td>\n",
       "      <td>1</td>\n",
       "      <td>349909</td>\n",
       "      <td>21.0750</td>\n",
       "      <td>NaN</td>\n",
       "      <td>S</td>\n",
       "    </tr>\n",
       "    <tr>\n",
       "      <th>8</th>\n",
       "      <td>9</td>\n",
       "      <td>1</td>\n",
       "      <td>3</td>\n",
       "      <td>Johnson, Mrs. Oscar W (Elisabeth Vilhelmina Berg)</td>\n",
       "      <td>female</td>\n",
       "      <td>27.0</td>\n",
       "      <td>0</td>\n",
       "      <td>2</td>\n",
       "      <td>347742</td>\n",
       "      <td>11.1333</td>\n",
       "      <td>NaN</td>\n",
       "      <td>S</td>\n",
       "    </tr>\n",
       "    <tr>\n",
       "      <th>9</th>\n",
       "      <td>10</td>\n",
       "      <td>1</td>\n",
       "      <td>2</td>\n",
       "      <td>Nasser, Mrs. Nicholas (Adele Achem)</td>\n",
       "      <td>female</td>\n",
       "      <td>14.0</td>\n",
       "      <td>1</td>\n",
       "      <td>0</td>\n",
       "      <td>237736</td>\n",
       "      <td>30.0708</td>\n",
       "      <td>NaN</td>\n",
       "      <td>C</td>\n",
       "    </tr>\n",
       "  </tbody>\n",
       "</table>\n",
       "</div>"
      ],
      "text/plain": [
       "   PassengerId  Survived  Pclass  \\\n",
       "0            1         0       3   \n",
       "1            2         1       1   \n",
       "2            3         1       3   \n",
       "3            4         1       1   \n",
       "4            5         0       3   \n",
       "5            6         0       3   \n",
       "6            7         0       1   \n",
       "7            8         0       3   \n",
       "8            9         1       3   \n",
       "9           10         1       2   \n",
       "\n",
       "                                                Name     Sex   Age  SibSp  \\\n",
       "0                            Braund, Mr. Owen Harris    male  22.0      1   \n",
       "1  Cumings, Mrs. John Bradley (Florence Briggs Th...  female  38.0      1   \n",
       "2                             Heikkinen, Miss. Laina  female  26.0      0   \n",
       "3       Futrelle, Mrs. Jacques Heath (Lily May Peel)  female  35.0      1   \n",
       "4                           Allen, Mr. William Henry    male  35.0      0   \n",
       "5                                   Moran, Mr. James    male   NaN      0   \n",
       "6                            McCarthy, Mr. Timothy J    male  54.0      0   \n",
       "7                     Palsson, Master. Gosta Leonard    male   2.0      3   \n",
       "8  Johnson, Mrs. Oscar W (Elisabeth Vilhelmina Berg)  female  27.0      0   \n",
       "9                Nasser, Mrs. Nicholas (Adele Achem)  female  14.0      1   \n",
       "\n",
       "   Parch            Ticket     Fare Cabin Embarked  \n",
       "0      0         A/5 21171   7.2500   NaN        S  \n",
       "1      0          PC 17599  71.2833   C85        C  \n",
       "2      0  STON/O2. 3101282   7.9250   NaN        S  \n",
       "3      0            113803  53.1000  C123        S  \n",
       "4      0            373450   8.0500   NaN        S  \n",
       "5      0            330877   8.4583   NaN        Q  \n",
       "6      0             17463  51.8625   E46        S  \n",
       "7      1            349909  21.0750   NaN        S  \n",
       "8      2            347742  11.1333   NaN        S  \n",
       "9      0            237736  30.0708   NaN        C  "
      ]
     },
     "execution_count": 3,
     "metadata": {},
     "output_type": "execute_result"
    }
   ],
   "source": [
    "train=pd.read_csv(\"/kaggle/input/titanic/train.csv\")\n",
    "test=pd.read_csv('/kaggle/input/titanic/test.csv')\n",
    "train.head(10)"
   ]
  },
  {
   "cell_type": "code",
   "execution_count": 4,
   "metadata": {
    "execution": {
     "iopub.execute_input": "2020-10-11T14:08:01.520843Z",
     "iopub.status.busy": "2020-10-11T14:08:01.520198Z",
     "iopub.status.idle": "2020-10-11T14:08:01.524489Z",
     "shell.execute_reply": "2020-10-11T14:08:01.523952Z"
    },
    "papermill": {
     "duration": 0.028857,
     "end_time": "2020-10-11T14:08:01.524599",
     "exception": false,
     "start_time": "2020-10-11T14:08:01.495742",
     "status": "completed"
    },
    "tags": []
   },
   "outputs": [
    {
     "data": {
      "text/plain": [
       "PassengerId      0\n",
       "Survived         0\n",
       "Pclass           0\n",
       "Name             0\n",
       "Sex              0\n",
       "Age            177\n",
       "SibSp            0\n",
       "Parch            0\n",
       "Ticket           0\n",
       "Fare             0\n",
       "Cabin          687\n",
       "Embarked         2\n",
       "dtype: int64"
      ]
     },
     "execution_count": 4,
     "metadata": {},
     "output_type": "execute_result"
    }
   ],
   "source": [
    "#counting missing values of the train set\n",
    "train.isnull().sum()"
   ]
  },
  {
   "cell_type": "code",
   "execution_count": 5,
   "metadata": {
    "execution": {
     "iopub.execute_input": "2020-10-11T14:08:01.583562Z",
     "iopub.status.busy": "2020-10-11T14:08:01.582921Z",
     "iopub.status.idle": "2020-10-11T14:08:01.587114Z",
     "shell.execute_reply": "2020-10-11T14:08:01.586517Z"
    },
    "papermill": {
     "duration": 0.036906,
     "end_time": "2020-10-11T14:08:01.587227",
     "exception": false,
     "start_time": "2020-10-11T14:08:01.550321",
     "status": "completed"
    },
    "tags": []
   },
   "outputs": [
    {
     "data": {
      "text/plain": [
       "PassengerId      0\n",
       "Pclass           0\n",
       "Name             0\n",
       "Sex              0\n",
       "Age             86\n",
       "SibSp            0\n",
       "Parch            0\n",
       "Ticket           0\n",
       "Fare             1\n",
       "Cabin          327\n",
       "Embarked         0\n",
       "dtype: int64"
      ]
     },
     "execution_count": 5,
     "metadata": {},
     "output_type": "execute_result"
    }
   ],
   "source": [
    "#counting missing values of the test set\n",
    "test.isnull().sum()"
   ]
  },
  {
   "cell_type": "code",
   "execution_count": 6,
   "metadata": {
    "execution": {
     "iopub.execute_input": "2020-10-11T14:08:01.647118Z",
     "iopub.status.busy": "2020-10-11T14:08:01.646442Z",
     "iopub.status.idle": "2020-10-11T14:08:01.650294Z",
     "shell.execute_reply": "2020-10-11T14:08:01.649777Z"
    },
    "papermill": {
     "duration": 0.036821,
     "end_time": "2020-10-11T14:08:01.650384",
     "exception": false,
     "start_time": "2020-10-11T14:08:01.613563",
     "status": "completed"
    },
    "tags": []
   },
   "outputs": [],
   "source": [
    "#creating a function for data visualisations using seaborn\n",
    "def categorical_summarized(dataframe, x=None, y=None, hue=None, palette='Set1', verbose=True):\n",
    "    if x == None:\n",
    "        column_interested = y\n",
    "    else:\n",
    "        column_interested = x\n",
    "    series = dataframe[column_interested]\n",
    "    print(series.describe())\n",
    "    print('mode: ', series.mode())\n",
    "    if verbose:\n",
    "        print('='*80)\n",
    "        print(series.value_counts())\n",
    "\n",
    "    sns.countplot(x=x, y=y, hue=hue, data=dataframe, palette=palette)"
   ]
  },
  {
   "cell_type": "code",
   "execution_count": 7,
   "metadata": {
    "execution": {
     "iopub.execute_input": "2020-10-11T14:08:01.691381Z",
     "iopub.status.busy": "2020-10-11T14:08:01.690868Z",
     "iopub.status.idle": "2020-10-11T14:08:01.861402Z",
     "shell.execute_reply": "2020-10-11T14:08:01.861004Z"
    },
    "papermill": {
     "duration": 0.193727,
     "end_time": "2020-10-11T14:08:01.861507",
     "exception": false,
     "start_time": "2020-10-11T14:08:01.667780",
     "status": "completed"
    },
    "tags": []
   },
   "outputs": [
    {
     "name": "stdout",
     "output_type": "stream",
     "text": [
      "count    891.000000\n",
      "mean       0.383838\n",
      "std        0.486592\n",
      "min        0.000000\n",
      "25%        0.000000\n",
      "50%        0.000000\n",
      "75%        1.000000\n",
      "max        1.000000\n",
      "Name: Survived, dtype: float64\n",
      "mode:  0    0\n",
      "dtype: int64\n",
      "================================================================================\n",
      "0    549\n",
      "1    342\n",
      "Name: Survived, dtype: int64\n"
     ]
    },
    {
     "data": {
      "image/png": "[encoded data removed]",
      "text/plain": [
       "<Figure size 432x288 with 1 Axes>"
      ]
     },
     "metadata": {
      "needs_background": "light"
     },
     "output_type": "display_data"
    }
   ],
   "source": [
    "#cheking general numbers: how many passengers survived and died\n",
    "#we can see that there are more passengers who died\n",
    "c_palette = ['tab:blue', 'tab:red']\n",
    "categorical_summarized(train, y = 'Survived', palette=c_palette)"
   ]
  },
  {
   "cell_type": "code",
   "execution_count": 8,
   "metadata": {
    "execution": {
     "iopub.execute_input": "2020-10-11T14:08:01.904808Z",
     "iopub.status.busy": "2020-10-11T14:08:01.904321Z",
     "iopub.status.idle": "2020-10-11T14:08:02.032663Z",
     "shell.execute_reply": "2020-10-11T14:08:02.032189Z"
    },
    "papermill": {
     "duration": 0.153033,
     "end_time": "2020-10-11T14:08:02.032748",
     "exception": false,
     "start_time": "2020-10-11T14:08:01.879715",
     "status": "completed"
    },
    "tags": []
   },
   "outputs": [
    {
     "name": "stdout",
     "output_type": "stream",
     "text": [
      "count      891\n",
      "unique       2\n",
      "top       male\n",
      "freq       577\n",
      "Name: Sex, dtype: object\n",
      "mode:  0    male\n",
      "dtype: object\n",
      "================================================================================\n",
      "male      577\n",
      "female    314\n",
      "Name: Sex, dtype: int64\n"
     ]
    },
    {
     "data": {
      "image/png": "[encoded data removed]",
      "text/plain": [
       "<Figure size 432x288 with 1 Axes>"
      ]
     },
     "metadata": {
      "needs_background": "light"
     },
     "output_type": "display_data"
    }
   ],
   "source": [
    "#the same thing, but using Sex - how many men and women survived. \n",
    "#Female survival chances were much higher than male ones.\n",
    "categorical_summarized(train, y=\"Sex\", hue = 'Survived', palette=c_palette)"
   ]
  },
  {
   "cell_type": "code",
   "execution_count": 9,
   "metadata": {
    "execution": {
     "iopub.execute_input": "2020-10-11T14:08:02.081420Z",
     "iopub.status.busy": "2020-10-11T14:08:02.079202Z",
     "iopub.status.idle": "2020-10-11T14:08:02.265545Z",
     "shell.execute_reply": "2020-10-11T14:08:02.265046Z"
    },
    "papermill": {
     "duration": 0.21326,
     "end_time": "2020-10-11T14:08:02.265650",
     "exception": false,
     "start_time": "2020-10-11T14:08:02.052390",
     "status": "completed"
    },
    "tags": []
   },
   "outputs": [
    {
     "name": "stdout",
     "output_type": "stream",
     "text": [
      "count     889\n",
      "unique      3\n",
      "top         S\n",
      "freq      644\n",
      "Name: Embarked, dtype: object\n",
      "mode:  0    S\n",
      "dtype: object\n",
      "================================================================================\n",
      "S    644\n",
      "C    168\n",
      "Q     77\n",
      "Name: Embarked, dtype: int64\n"
     ]
    },
    {
     "data": {
      "image/png": "[encoded data removed]",
      "text/plain": [
       "<Figure size 432x288 with 1 Axes>"
      ]
     },
     "metadata": {
      "needs_background": "light"
     },
     "output_type": "display_data"
    }
   ],
   "source": [
    "#distribution of dead/survived passengers depending on their embarkation\n",
    "categorical_summarized(train, y= \"Embarked\", hue = 'Survived', palette=c_palette)"
   ]
  },
  {
   "cell_type": "code",
   "execution_count": 10,
   "metadata": {
    "execution": {
     "iopub.execute_input": "2020-10-11T14:08:02.331813Z",
     "iopub.status.busy": "2020-10-11T14:08:02.330939Z",
     "iopub.status.idle": "2020-10-11T14:08:02.462436Z",
     "shell.execute_reply": "2020-10-11T14:08:02.461915Z"
    },
    "papermill": {
     "duration": 0.167077,
     "end_time": "2020-10-11T14:08:02.462535",
     "exception": false,
     "start_time": "2020-10-11T14:08:02.295458",
     "status": "completed"
    },
    "tags": []
   },
   "outputs": [
    {
     "name": "stdout",
     "output_type": "stream",
     "text": [
      "count    891.000000\n",
      "mean       2.308642\n",
      "std        0.836071\n",
      "min        1.000000\n",
      "25%        2.000000\n",
      "50%        3.000000\n",
      "75%        3.000000\n",
      "max        3.000000\n",
      "Name: Pclass, dtype: float64\n",
      "mode:  0    3\n",
      "dtype: int64\n",
      "================================================================================\n",
      "3    491\n",
      "1    216\n",
      "2    184\n",
      "Name: Pclass, dtype: int64\n"
     ]
    },
    {
     "data": {
      "image/png": "[encoded data removed]",
      "text/plain": [
       "<Figure size 432x288 with 1 Axes>"
      ]
     },
     "metadata": {
      "needs_background": "light"
     },
     "output_type": "display_data"
    }
   ],
   "source": [
    "#The same numbers distributed by Pclass. Predictably, the higher class - the higher survival chances\n",
    "categorical_summarized(train, x=\"Pclass\", hue = 'Survived', palette=c_palette)"
   ]
  },
  {
   "cell_type": "code",
   "execution_count": 11,
   "metadata": {
    "execution": {
     "iopub.execute_input": "2020-10-11T14:08:02.518518Z",
     "iopub.status.busy": "2020-10-11T14:08:02.514357Z",
     "iopub.status.idle": "2020-10-11T14:08:02.822063Z",
     "shell.execute_reply": "2020-10-11T14:08:02.821527Z"
    },
    "papermill": {
     "duration": 0.338012,
     "end_time": "2020-10-11T14:08:02.822155",
     "exception": false,
     "start_time": "2020-10-11T14:08:02.484143",
     "status": "completed"
    },
    "tags": []
   },
   "outputs": [
    {
     "data": {
      "text/plain": [
       "<matplotlib.axes._subplots.AxesSubplot at 0x7fb9c8af2990>"
      ]
     },
     "execution_count": 11,
     "metadata": {},
     "output_type": "execute_result"
    },
    {
     "data": {
      "image/png": "[encoded data removed]",
      "text/plain": [
       "<Figure size 432x288 with 2 Axes>"
      ]
     },
     "metadata": {
      "needs_background": "light"
     },
     "output_type": "display_data"
    }
   ],
   "source": [
    "#Correlation map. We can see that the highest correlation with Survived label have Pclass and Fare\n",
    "#those two features have pretty high correlation.\n",
    "sns.heatmap((train.loc[:,[\"Age\", \"SibSp\", 'Parch', 'Fare', 'Pclass', 'Survived']]).corr(), annot=True)"
   ]
  },
  {
   "cell_type": "markdown",
   "metadata": {
    "papermill": {
     "duration": 0.022416,
     "end_time": "2020-10-11T14:08:02.867641",
     "exception": false,
     "start_time": "2020-10-11T14:08:02.845225",
     "status": "completed"
    },
    "tags": []
   },
   "source": [
    "Violinplots to look at the distribution using Pclass and Age.\n",
    "There were more dead people at the age 40-60 in the first class and more younger people survived (~25-45) and we can see some older outliers here. Very few kids survived and very few of them died, it seems, that there no many kids in the first class.\n",
    "In the second class, there are much more dead people in younger category - 20-35 and a bit less of survived adults and kids (no kids till ~10 years old died)\n",
    "In the third class, there are some kids who died, those ones whose families were too big. In general, the youngest people died in this group. My guess - young single men who were going for a better life and job."
   ]
  },
  {
   "cell_type": "code",
   "execution_count": 12,
   "metadata": {
    "execution": {
     "iopub.execute_input": "2020-10-11T14:08:02.921587Z",
     "iopub.status.busy": "2020-10-11T14:08:02.918996Z",
     "iopub.status.idle": "2020-10-11T14:08:03.089435Z",
     "shell.execute_reply": "2020-10-11T14:08:03.089873Z"
    },
    "papermill": {
     "duration": 0.199265,
     "end_time": "2020-10-11T14:08:03.090003",
     "exception": false,
     "start_time": "2020-10-11T14:08:02.890738",
     "status": "completed"
    },
    "tags": []
   },
   "outputs": [
    {
     "data": {
      "text/plain": [
       "<matplotlib.axes._subplots.AxesSubplot at 0x7fb9c68faf90>"
      ]
     },
     "execution_count": 12,
     "metadata": {},
     "output_type": "execute_result"
    },
    {
     "data": {
      "image/png": "[encoded data removed]",
      "text/plain": [
       "<Figure size 432x288 with 1 Axes>"
      ]
     },
     "metadata": {
      "needs_background": "light"
     },
     "output_type": "display_data"
    }
   ],
   "source": [
    "\n",
    "sns.violinplot(x=\"Pclass\", y=\"Age\", hue=\"Survived\", data = train, palette = \"Set1\")"
   ]
  },
  {
   "cell_type": "code",
   "execution_count": 13,
   "metadata": {
    "execution": {
     "iopub.execute_input": "2020-10-11T14:08:03.147671Z",
     "iopub.status.busy": "2020-10-11T14:08:03.147123Z",
     "iopub.status.idle": "2020-10-11T14:08:03.150066Z",
     "shell.execute_reply": "2020-10-11T14:08:03.149594Z"
    },
    "papermill": {
     "duration": 0.035191,
     "end_time": "2020-10-11T14:08:03.150159",
     "exception": false,
     "start_time": "2020-10-11T14:08:03.114968",
     "status": "completed"
    },
    "tags": []
   },
   "outputs": [],
   "source": [
    "#concatenating data sets\n",
    "all_data = train.append(test)"
   ]
  },
  {
   "cell_type": "code",
   "execution_count": 14,
   "metadata": {
    "execution": {
     "iopub.execute_input": "2020-10-11T14:08:03.212515Z",
     "iopub.status.busy": "2020-10-11T14:08:03.207288Z",
     "iopub.status.idle": "2020-10-11T14:08:03.389981Z",
     "shell.execute_reply": "2020-10-11T14:08:03.390533Z"
    },
    "papermill": {
     "duration": 0.216226,
     "end_time": "2020-10-11T14:08:03.390656",
     "exception": false,
     "start_time": "2020-10-11T14:08:03.174430",
     "status": "completed"
    },
    "tags": []
   },
   "outputs": [
    {
     "data": {
      "image/png": "[encoded data removed]",
      "text/plain": [
       "<Figure size 432x288 with 1 Axes>"
      ]
     },
     "metadata": {
      "needs_background": "light"
     },
     "output_type": "display_data"
    }
   ],
   "source": [
    "#Filling missing Age values, using created Title feature\n",
    "import re\n",
    "all_data['Title'] = all_data.Name.apply(lambda x: re.search(' ([A-Z][a-z]+)\\.', x).group(1))\n",
    "mapping = {'Mlle': 'Miss', 'Major': 'Mr', 'Col': 'Mr', 'Sir': 'Mr', 'Don': 'Mr', 'Mme': 'Miss',\n",
    "          'Jonkheer': 'Mr', 'Lady': 'Mrs', 'Capt': 'Mr', 'Countess': 'Mrs', 'Ms': 'Miss', 'Dona': 'Mrs'}\n",
    "all_data.replace({'Title': mapping}, inplace=True)\n",
    "titles = ['Dr', 'Master', 'Miss', 'Mr', 'Mrs', 'Rev']\n",
    "for title in titles:\n",
    "    age_to_impute = all_data.groupby('Title')['Age'].median()[titles.index(title)]\n",
    "    all_data.loc[(all_data['Age'].isnull()) & (all_data['Title'] == title), 'Age'] = age_to_impute\n",
    "    \n",
    "# Substituting Age values in train and test:\n",
    "train['Age'] = all_data['Age'][:891]\n",
    "test['Age'] = all_data['Age'][891:]\n",
    "\n",
    "sns.countplot(x='Title', data=all_data);\n",
    "#all_data.drop('Title', axis = 1, inplace = True)\n",
    "train['Title'] = all_data['Title'][:891]\n",
    "test['Title'] = all_data['Title'][891:]\n",
    "\n",
    "train['Title'].replace(['Mr', 'Mrs', 'Miss', 'Master', 'Rev', 'Dr'],[1,2,3,4,5,6],inplace=True)\n",
    "test['Title'].replace(['Mr', 'Mrs', 'Miss', 'Master', 'Rev', 'Dr'],[1,2,3,4,5,6],inplace=True)"
   ]
  },
  {
   "cell_type": "code",
   "execution_count": 15,
   "metadata": {
    "execution": {
     "iopub.execute_input": "2020-10-11T14:08:03.448952Z",
     "iopub.status.busy": "2020-10-11T14:08:03.448399Z",
     "iopub.status.idle": "2020-10-11T14:08:03.450865Z",
     "shell.execute_reply": "2020-10-11T14:08:03.451221Z"
    },
    "papermill": {
     "duration": 0.03568,
     "end_time": "2020-10-11T14:08:03.451337",
     "exception": false,
     "start_time": "2020-10-11T14:08:03.415657",
     "status": "completed"
    },
    "tags": []
   },
   "outputs": [],
   "source": [
    "all_data['Family_Size'] = all_data['Parch'] + all_data['SibSp']\n",
    "\n",
    "# Substituting Age values in train and test data frames:\n",
    "train['Family_Size'] = all_data['Family_Size'][:891]\n",
    "test['Family_Size'] = all_data['Family_Size'][891:]"
   ]
  },
  {
   "cell_type": "markdown",
   "metadata": {
    "papermill": {
     "duration": 0.023536,
     "end_time": "2020-10-11T14:08:03.499347",
     "exception": false,
     "start_time": "2020-10-11T14:08:03.475811",
     "status": "completed"
    },
    "tags": []
   },
   "source": [
    "**Family_survival.**\n",
    "This feature wasn't written by me. I googled the code having an idea what I need to do, thanks to SQL insights about grouping. The original work is here: https://www.kaggle.com/shunjiangxu/blood-is-thicker-than-water-friendship-forever \n",
    "We will get family survival numbers: 0, 0.5, 1."
   ]
  },
  {
   "cell_type": "code",
   "execution_count": 16,
   "metadata": {
    "execution": {
     "iopub.execute_input": "2020-10-11T14:08:03.565434Z",
     "iopub.status.busy": "2020-10-11T14:08:03.557355Z",
     "iopub.status.idle": "2020-10-11T14:08:04.529034Z",
     "shell.execute_reply": "2020-10-11T14:08:04.529570Z"
    },
    "papermill": {
     "duration": 1.005537,
     "end_time": "2020-10-11T14:08:04.529741",
     "exception": false,
     "start_time": "2020-10-11T14:08:03.524204",
     "status": "completed"
    },
    "tags": []
   },
   "outputs": [
    {
     "name": "stdout",
     "output_type": "stream",
     "text": [
      "Number of passengers with family survival information: 420\n"
     ]
    }
   ],
   "source": [
    "all_data['Last_Name'] = all_data['Name'].apply(lambda x: str.split(x, \",\")[0])\n",
    "all_data['Fare'].fillna(all_data['Fare'].mean(), inplace=True)\n",
    "\n",
    "DEFAULT_SURVIVAL_VALUE = 0.5\n",
    "all_data['Family_Survival'] = DEFAULT_SURVIVAL_VALUE\n",
    "\n",
    "for grp, grp_df in all_data[['Survived','Name', 'Last_Name', 'Fare', 'Ticket', 'PassengerId',\n",
    "                           'SibSp', 'Parch', 'Age', 'Cabin']].groupby(['Last_Name', 'Fare']):\n",
    "    \n",
    "    if (len(grp_df) != 1):\n",
    "        # A Family group is found.\n",
    "        for ind, row in grp_df.iterrows():\n",
    "            smax = grp_df.drop(ind)['Survived'].max()\n",
    "            smin = grp_df.drop(ind)['Survived'].min()\n",
    "            passID = row['PassengerId']\n",
    "            if (smax == 1.0):\n",
    "                all_data.loc[all_data['PassengerId'] == passID, 'Family_Survival'] = 1\n",
    "            elif (smin==0.0):\n",
    "                all_data.loc[all_data['PassengerId'] == passID, 'Family_Survival'] = 0\n",
    "\n",
    "print(\"Number of passengers with family survival information:\", \n",
    "      all_data.loc[all_data['Family_Survival']!=0.5].shape[0])"
   ]
  },
  {
   "cell_type": "code",
   "execution_count": 17,
   "metadata": {
    "execution": {
     "iopub.execute_input": "2020-10-11T14:08:04.601505Z",
     "iopub.status.busy": "2020-10-11T14:08:04.600995Z",
     "iopub.status.idle": "2020-10-11T14:08:05.190239Z",
     "shell.execute_reply": "2020-10-11T14:08:05.189846Z"
    },
    "papermill": {
     "duration": 0.626218,
     "end_time": "2020-10-11T14:08:05.190326",
     "exception": false,
     "start_time": "2020-10-11T14:08:04.564108",
     "status": "completed"
    },
    "tags": []
   },
   "outputs": [
    {
     "name": "stdout",
     "output_type": "stream",
     "text": [
      "Number of passenger with family/group survival information: 546\n"
     ]
    }
   ],
   "source": [
    "for _, grp_df in all_data.groupby('Ticket'):\n",
    "    if (len(grp_df) != 1):\n",
    "        for ind, row in grp_df.iterrows():\n",
    "            if (row['Family_Survival'] == 0) | (row['Family_Survival']== 0.5):\n",
    "                smax = grp_df.drop(ind)['Survived'].max()\n",
    "                smin = grp_df.drop(ind)['Survived'].min()\n",
    "                passID = row['PassengerId']\n",
    "                if (smax == 1.0):\n",
    "                    all_data.loc[all_data['PassengerId'] == passID, 'Family_Survival'] = 1\n",
    "                elif (smin==0.0):\n",
    "                    all_data.loc[all_data['PassengerId'] == passID, 'Family_Survival'] = 0\n",
    "                        \n",
    "print(\"Number of passenger with family/group survival information: \" \n",
    "      +str(all_data[all_data['Family_Survival']!=0.5].shape[0]))\n",
    "\n",
    "# # Family_Survival in train and test:\n",
    "train['Family_Survival'] = all_data['Family_Survival'][:891]\n",
    "test['Family_Survival'] = all_data['Family_Survival'][891:]"
   ]
  },
  {
   "cell_type": "code",
   "execution_count": 18,
   "metadata": {
    "execution": {
     "iopub.execute_input": "2020-10-11T14:08:05.245977Z",
     "iopub.status.busy": "2020-10-11T14:08:05.245286Z",
     "iopub.status.idle": "2020-10-11T14:08:05.253013Z",
     "shell.execute_reply": "2020-10-11T14:08:05.252521Z"
    },
    "papermill": {
     "duration": 0.037725,
     "end_time": "2020-10-11T14:08:05.253096",
     "exception": false,
     "start_time": "2020-10-11T14:08:05.215371",
     "status": "completed"
    },
    "tags": []
   },
   "outputs": [],
   "source": [
    "#counting for how many people every ticket was usedm another grouping\n",
    "all_data['Ticket_Frequency'] = all_data.groupby('Ticket')['Ticket'].transform('count')\n",
    "train['Ticket_Frequency'] = all_data['Ticket_Frequency'][:891]\n",
    "test['Ticket_Frequency'] = all_data['Ticket_Frequency'][891:]"
   ]
  },
  {
   "cell_type": "code",
   "execution_count": 19,
   "metadata": {
    "execution": {
     "iopub.execute_input": "2020-10-11T14:08:05.314224Z",
     "iopub.status.busy": "2020-10-11T14:08:05.313291Z",
     "iopub.status.idle": "2020-10-11T14:08:05.337183Z",
     "shell.execute_reply": "2020-10-11T14:08:05.336583Z"
    },
    "papermill": {
     "duration": 0.058035,
     "end_time": "2020-10-11T14:08:05.337292",
     "exception": false,
     "start_time": "2020-10-11T14:08:05.279257",
     "status": "completed"
    },
    "tags": []
   },
   "outputs": [],
   "source": [
    "#Fare per one\n",
    "all_data[\"Fare\"] = all_data[\"Fare\"].fillna(test[\"Fare\"].median())\n",
    "all_data[\"Fare_per_one\"]=all_data['Fare']/all_data['Ticket_Frequency']\n",
    "\n",
    "# Making 16 Bins for Fare\n",
    "all_data['FareBin'] = pd.qcut(all_data['Fare_per_one'], 16)\n",
    "\n",
    "label = LabelEncoder()\n",
    "all_data['FareBin_Code'] = label.fit_transform(all_data['FareBin'])\n",
    "\n",
    "train['FareBin_Code'] = all_data['FareBin_Code'][:891]\n",
    "test['FareBin_Code'] = all_data['FareBin_Code'][891:]\n",
    "\n",
    "train.drop(['Fare'], 1, inplace=True)\n",
    "test.drop(['Fare'], 1, inplace=True)"
   ]
  },
  {
   "cell_type": "code",
   "execution_count": 20,
   "metadata": {
    "execution": {
     "iopub.execute_input": "2020-10-11T14:08:05.401944Z",
     "iopub.status.busy": "2020-10-11T14:08:05.398511Z",
     "iopub.status.idle": "2020-10-11T14:08:05.414518Z",
     "shell.execute_reply": "2020-10-11T14:08:05.414018Z"
    },
    "papermill": {
     "duration": 0.04846,
     "end_time": "2020-10-11T14:08:05.414604",
     "exception": false,
     "start_time": "2020-10-11T14:08:05.366144",
     "status": "completed"
    },
    "tags": []
   },
   "outputs": [],
   "source": [
    "#Making 4 bins for Age\n",
    "all_data['AgeBin'] = pd.qcut(all_data['Age'], 6)\n",
    "\n",
    "label = LabelEncoder()\n",
    "all_data['AgeBin_Code'] = label.fit_transform(all_data['AgeBin'])\n",
    "\n",
    "train['AgeBin_Code'] = all_data['AgeBin_Code'][:891]\n",
    "test['AgeBin_Code'] = all_data['AgeBin_Code'][891:]\n",
    "\n",
    "train.drop(['Age'], 1, inplace=True)\n",
    "test.drop(['Age'], 1, inplace=True)"
   ]
  },
  {
   "cell_type": "markdown",
   "metadata": {
    "papermill": {
     "duration": 0.025699,
     "end_time": "2020-10-11T14:08:05.466270",
     "exception": false,
     "start_time": "2020-10-11T14:08:05.440571",
     "status": "completed"
    },
    "tags": []
   },
   "source": [
    "Let's have a look at new correlation map. \n",
    "As was said, SibSp, Parch, Family Size are highly correlated. It could be expected 1.0 correlation between Family_size and Ticket_Frequency, but it is only 0.82"
   ]
  },
  {
   "cell_type": "code",
   "execution_count": 21,
   "metadata": {
    "execution": {
     "iopub.execute_input": "2020-10-11T14:08:05.528276Z",
     "iopub.status.busy": "2020-10-11T14:08:05.526921Z",
     "iopub.status.idle": "2020-10-11T14:08:05.951361Z",
     "shell.execute_reply": "2020-10-11T14:08:05.950844Z"
    },
    "papermill": {
     "duration": 0.459154,
     "end_time": "2020-10-11T14:08:05.951467",
     "exception": false,
     "start_time": "2020-10-11T14:08:05.492313",
     "status": "completed"
    },
    "tags": []
   },
   "outputs": [
    {
     "data": {
      "text/plain": [
       "<matplotlib.axes._subplots.AxesSubplot at 0x7fb9c6796550>"
      ]
     },
     "execution_count": 21,
     "metadata": {},
     "output_type": "execute_result"
    },
    {
     "data": {
      "image/png": "[encoded data removed]",
      "text/plain": [
       "<Figure size 936x576 with 2 Axes>"
      ]
     },
     "metadata": {},
     "output_type": "display_data"
    }
   ],
   "source": [
    "sns.set(rc={'figure.figsize':(13,8)})\n",
    "sns.heatmap((train.loc[:,['SibSp', 'Parch', 'Family_Size','FareBin_Code', \n",
    "            'AgeBin_Code','Pclass', 'Ticket_Frequency', 'Family_Survival','Survived']]).corr(), annot=True)"
   ]
  },
  {
   "cell_type": "code",
   "execution_count": 22,
   "metadata": {
    "execution": {
     "iopub.execute_input": "2020-10-11T14:08:06.022989Z",
     "iopub.status.busy": "2020-10-11T14:08:06.022392Z",
     "iopub.status.idle": "2020-10-11T14:08:06.025981Z",
     "shell.execute_reply": "2020-10-11T14:08:06.025370Z"
    },
    "papermill": {
     "duration": 0.046493,
     "end_time": "2020-10-11T14:08:06.026075",
     "exception": false,
     "start_time": "2020-10-11T14:08:05.979582",
     "status": "completed"
    },
    "tags": []
   },
   "outputs": [],
   "source": [
    "#replacing 'malee' and 'female' with 0 and 1 for the algoritm\n",
    "train['Sex'].replace(['male','female'],[0,1],inplace=True)\n",
    "test['Sex'].replace(['male','female'],[0,1],inplace=True)\n",
    "\n",
    "#dropping unnecessary features\n",
    "train.drop(['Name', 'PassengerId', 'SibSp', 'Parch', 'Ticket', 'Cabin', \n",
    "               'Embarked'], axis = 1, inplace = True)\n",
    "test.drop(['Name','PassengerId', 'SibSp', 'Parch', 'Ticket', 'Cabin', \n",
    "              'Embarked'], axis = 1, inplace = True)"
   ]
  },
  {
   "cell_type": "code",
   "execution_count": 23,
   "metadata": {
    "execution": {
     "iopub.execute_input": "2020-10-11T14:08:06.094315Z",
     "iopub.status.busy": "2020-10-11T14:08:06.093463Z",
     "iopub.status.idle": "2020-10-11T14:08:06.098650Z",
     "shell.execute_reply": "2020-10-11T14:08:06.098204Z"
    },
    "papermill": {
     "duration": 0.043951,
     "end_time": "2020-10-11T14:08:06.098739",
     "exception": false,
     "start_time": "2020-10-11T14:08:06.054788",
     "status": "completed"
    },
    "tags": []
   },
   "outputs": [
    {
     "data": {
      "text/html": [
       "<div>\n",
       "<style scoped>\n",
       "    .dataframe tbody tr th:only-of-type {\n",
       "        vertical-align: middle;\n",
       "    }\n",
       "\n",
       "    .dataframe tbody tr th {\n",
       "        vertical-align: top;\n",
       "    }\n",
       "\n",
       "    .dataframe thead th {\n",
       "        text-align: right;\n",
       "    }\n",
       "</style>\n",
       "<table border=\"1\" class=\"dataframe\">\n",
       "  <thead>\n",
       "    <tr style=\"text-align: right;\">\n",
       "      <th></th>\n",
       "      <th>Survived</th>\n",
       "      <th>Pclass</th>\n",
       "      <th>Sex</th>\n",
       "      <th>Title</th>\n",
       "      <th>Family_Size</th>\n",
       "      <th>Family_Survival</th>\n",
       "      <th>Ticket_Frequency</th>\n",
       "      <th>FareBin_Code</th>\n",
       "      <th>AgeBin_Code</th>\n",
       "    </tr>\n",
       "  </thead>\n",
       "  <tbody>\n",
       "    <tr>\n",
       "      <th>0</th>\n",
       "      <td>0</td>\n",
       "      <td>3</td>\n",
       "      <td>0</td>\n",
       "      <td>1</td>\n",
       "      <td>1</td>\n",
       "      <td>0.5</td>\n",
       "      <td>1</td>\n",
       "      <td>3</td>\n",
       "      <td>1</td>\n",
       "    </tr>\n",
       "    <tr>\n",
       "      <th>1</th>\n",
       "      <td>1</td>\n",
       "      <td>1</td>\n",
       "      <td>1</td>\n",
       "      <td>2</td>\n",
       "      <td>1</td>\n",
       "      <td>0.5</td>\n",
       "      <td>2</td>\n",
       "      <td>14</td>\n",
       "      <td>4</td>\n",
       "    </tr>\n",
       "    <tr>\n",
       "      <th>2</th>\n",
       "      <td>1</td>\n",
       "      <td>3</td>\n",
       "      <td>1</td>\n",
       "      <td>3</td>\n",
       "      <td>0</td>\n",
       "      <td>0.5</td>\n",
       "      <td>1</td>\n",
       "      <td>6</td>\n",
       "      <td>2</td>\n",
       "    </tr>\n",
       "    <tr>\n",
       "      <th>3</th>\n",
       "      <td>1</td>\n",
       "      <td>1</td>\n",
       "      <td>1</td>\n",
       "      <td>2</td>\n",
       "      <td>1</td>\n",
       "      <td>0.0</td>\n",
       "      <td>2</td>\n",
       "      <td>12</td>\n",
       "      <td>4</td>\n",
       "    </tr>\n",
       "    <tr>\n",
       "      <th>4</th>\n",
       "      <td>0</td>\n",
       "      <td>3</td>\n",
       "      <td>0</td>\n",
       "      <td>1</td>\n",
       "      <td>0</td>\n",
       "      <td>0.5</td>\n",
       "      <td>1</td>\n",
       "      <td>7</td>\n",
       "      <td>4</td>\n",
       "    </tr>\n",
       "  </tbody>\n",
       "</table>\n",
       "</div>"
      ],
      "text/plain": [
       "   Survived  Pclass  Sex  Title  Family_Size  Family_Survival  \\\n",
       "0         0       3    0      1            1              0.5   \n",
       "1         1       1    1      2            1              0.5   \n",
       "2         1       3    1      3            0              0.5   \n",
       "3         1       1    1      2            1              0.0   \n",
       "4         0       3    0      1            0              0.5   \n",
       "\n",
       "   Ticket_Frequency  FareBin_Code  AgeBin_Code  \n",
       "0                 1             3            1  \n",
       "1                 2            14            4  \n",
       "2                 1             6            2  \n",
       "3                 2            12            4  \n",
       "4                 1             7            4  "
      ]
     },
     "execution_count": 23,
     "metadata": {},
     "output_type": "execute_result"
    }
   ],
   "source": [
    "train.head()"
   ]
  },
  {
   "cell_type": "code",
   "execution_count": 24,
   "metadata": {
    "execution": {
     "iopub.execute_input": "2020-10-11T14:08:06.163030Z",
     "iopub.status.busy": "2020-10-11T14:08:06.162471Z",
     "iopub.status.idle": "2020-10-11T14:08:06.165299Z",
     "shell.execute_reply": "2020-10-11T14:08:06.164774Z"
    },
    "papermill": {
     "duration": 0.037199,
     "end_time": "2020-10-11T14:08:06.165384",
     "exception": false,
     "start_time": "2020-10-11T14:08:06.128185",
     "status": "completed"
    },
    "tags": []
   },
   "outputs": [],
   "source": [
    "y = train['Survived']\n",
    "train_df = train.drop('Survived', 1)\n",
    "test_df = test.copy()"
   ]
  },
  {
   "cell_type": "code",
   "execution_count": 25,
   "metadata": {
    "execution": {
     "iopub.execute_input": "2020-10-11T14:08:06.228688Z",
     "iopub.status.busy": "2020-10-11T14:08:06.227964Z",
     "iopub.status.idle": "2020-10-11T14:08:06.232075Z",
     "shell.execute_reply": "2020-10-11T14:08:06.231530Z"
    },
    "papermill": {
     "duration": 0.038069,
     "end_time": "2020-10-11T14:08:06.232165",
     "exception": false,
     "start_time": "2020-10-11T14:08:06.194096",
     "status": "completed"
    },
    "tags": []
   },
   "outputs": [],
   "source": [
    "#test/train splitting\n",
    "my_train, my_test, my_y, my_res = train_test_split(train_df, y, test_size=0.1, random_state=42)"
   ]
  },
  {
   "cell_type": "code",
   "execution_count": 26,
   "metadata": {
    "execution": {
     "iopub.execute_input": "2020-10-11T14:08:06.304944Z",
     "iopub.status.busy": "2020-10-11T14:08:06.299442Z",
     "iopub.status.idle": "2020-10-11T14:08:06.849989Z",
     "shell.execute_reply": "2020-10-11T14:08:06.849275Z"
    },
    "papermill": {
     "duration": 0.58861,
     "end_time": "2020-10-11T14:08:06.850110",
     "exception": false,
     "start_time": "2020-10-11T14:08:06.261500",
     "status": "completed"
    },
    "tags": []
   },
   "outputs": [
    {
     "name": "stdout",
     "output_type": "stream",
     "text": [
      "0.8777777777777778\n"
     ]
    }
   ],
   "source": [
    "#creating trial RFC model\n",
    "model_try = RandomForestClassifier(n_estimators=300, max_depth=5, random_state=42)\n",
    "model_try.fit(my_train, my_y)\n",
    "preds = model_try.predict(my_test)\n",
    "print(accuracy_score(my_res, preds))"
   ]
  },
  {
   "cell_type": "code",
   "execution_count": 27,
   "metadata": {
    "execution": {
     "iopub.execute_input": "2020-10-11T14:08:06.959357Z",
     "iopub.status.busy": "2020-10-11T14:08:06.958878Z",
     "iopub.status.idle": "2020-10-11T14:08:07.245348Z",
     "shell.execute_reply": "2020-10-11T14:08:07.245736Z"
    },
    "papermill": {
     "duration": 0.361569,
     "end_time": "2020-10-11T14:08:07.245870",
     "exception": false,
     "start_time": "2020-10-11T14:08:06.884301",
     "status": "completed"
    },
    "tags": []
   },
   "outputs": [
    {
     "data": {
      "image/png": "[encoded data removed]",
      "text/plain": [
       "<Figure size 720x720 with 1 Axes>"
      ]
     },
     "metadata": {},
     "output_type": "display_data"
    }
   ],
   "source": [
    "#feature importance of the algorithm\n",
    "pd.Series(model_try.feature_importances_, index = my_train.columns).nlargest(12).plot(kind = 'barh',\n",
    "                            figsize = (10, 10),title = 'Feature importance from Random Forest').invert_yaxis()"
   ]
  },
  {
   "cell_type": "code",
   "execution_count": 28,
   "metadata": {
    "execution": {
     "iopub.execute_input": "2020-10-11T14:08:07.311697Z",
     "iopub.status.busy": "2020-10-11T14:08:07.311226Z",
     "iopub.status.idle": "2020-10-11T14:08:07.317713Z",
     "shell.execute_reply": "2020-10-11T14:08:07.317333Z"
    },
    "papermill": {
     "duration": 0.042017,
     "end_time": "2020-10-11T14:08:07.317797",
     "exception": false,
     "start_time": "2020-10-11T14:08:07.275780",
     "status": "completed"
    },
    "tags": []
   },
   "outputs": [],
   "source": [
    "test = pd.read_csv('/kaggle/input/titanic/test.csv')"
   ]
  },
  {
   "cell_type": "code",
   "execution_count": 29,
   "metadata": {
    "execution": {
     "iopub.execute_input": "2020-10-11T14:08:07.397372Z",
     "iopub.status.busy": "2020-10-11T14:08:07.396729Z",
     "iopub.status.idle": "2020-10-11T14:08:08.467539Z",
     "shell.execute_reply": "2020-10-11T14:08:08.468144Z"
    },
    "papermill": {
     "duration": 1.119767,
     "end_time": "2020-10-11T14:08:08.468296",
     "exception": false,
     "start_time": "2020-10-11T14:08:07.348529",
     "status": "completed"
    },
    "tags": []
   },
   "outputs": [
    {
     "name": "stdout",
     "output_type": "stream",
     "text": [
      "[0 1 0 0 1 0 1 0 1 0 0 0 1 0 1 1 0 0 0 1 0 1 1 0 1 0 1 0 0 0 0 0 1 0 0 0 1\n",
      " 0 0 0 0 0 0 1 1 0 0 0 1 1 0 0 1 1 0 0 0 0 0 1 0 0 0 1 1 1 1 0 0 1 1 0 1 0\n",
      " 1 0 0 1 0 1 0 0 0 0 0 0 1 1 1 1 1 0 1 0 0 0 1 0 1 0 1 0 0 0 1 0 0 0 0 0 0\n",
      " 1 1 1 1 0 0 1 0 1 1 0 1 0 0 0 0 1 0 0 0 0 0 0 0 0 0 0 1 0 0 1 0 0 0 0 0 0\n",
      " 0 0 1 0 0 1 1 0 1 1 0 1 1 1 1 0 0 1 0 0 1 1 0 0 0 0 0 1 1 0 1 1 0 0 1 0 1\n",
      " 0 1 0 0 0 0 0 0 0 1 0 1 1 0 1 1 0 0 1 0 0 1 0 1 0 0 0 0 1 1 0 1 0 1 0 1 0\n",
      " 1 0 1 1 0 1 0 0 0 1 0 0 0 0 0 0 1 1 1 1 0 0 0 0 1 0 1 1 1 0 0 0 0 0 0 0 1\n",
      " 0 0 0 1 1 0 0 0 0 1 0 0 0 1 0 0 1 0 0 0 0 0 1 1 1 0 0 0 0 0 0 0 1 0 1 0 0\n",
      " 1 0 0 0 0 0 0 0 1 1 0 1 0 0 0 0 0 1 1 1 0 0 0 0 0 0 0 0 1 0 1 0 0 0 1 0 0\n",
      " 1 0 0 0 0 0 0 0 0 0 1 0 1 0 1 0 1 1 0 0 0 1 0 1 0 0 0 0 1 1 0 1 0 0 0 1 0\n",
      " 0 1 0 0 1 1 0 0 0 1 0 0 0 0 0 1 0 0 0 0 0 1 1 0 0 1 0 1 0 0 1 0 1 0 0 0 0\n",
      " 0 1 1 1 1 1 0 1 0 0 1]\n"
     ]
    }
   ],
   "source": [
    "#creating the model, predictions and output\n",
    "model = RandomForestClassifier(n_estimators=500, max_depth=5, random_state=42)\n",
    "model.fit(train_df, y)\n",
    "predictions = model.predict(test_df)\n",
    "output = pd.DataFrame({'PassengerId': test.PassengerId, 'Survived': predictions})\n",
    "output.to_csv('my_submission.csv', index=False)\n",
    "print(predictions)"
   ]
  },
  {
   "cell_type": "code",
   "execution_count": 30,
   "metadata": {
    "execution": {
     "iopub.execute_input": "2020-10-11T14:08:08.614587Z",
     "iopub.status.busy": "2020-10-11T14:08:08.613951Z",
     "iopub.status.idle": "2020-10-11T14:08:08.827017Z",
     "shell.execute_reply": "2020-10-11T14:08:08.826490Z"
    },
    "papermill": {
     "duration": 0.314355,
     "end_time": "2020-10-11T14:08:08.827109",
     "exception": false,
     "start_time": "2020-10-11T14:08:08.512754",
     "status": "completed"
    },
    "tags": []
   },
   "outputs": [
    {
     "data": {
      "image/png": "[encoded data removed]",
      "text/plain": [
       "<Figure size 720x720 with 1 Axes>"
      ]
     },
     "metadata": {},
     "output_type": "display_data"
    }
   ],
   "source": [
    "#feature importance iss a bit different from the above model on train data\n",
    "pd.Series(model.feature_importances_, index = train_df.columns).nlargest(30).plot(kind = 'barh',\n",
    "                            figsize = (10, 10),title = 'Feature importance from Random Forest').invert_yaxis()"
   ]
  }
 ],
 "metadata": {
  "kernelspec": {
   "display_name": "Python 3",
   "language": "python",
   "name": "python3"
  },
  "language_info": {
   "codemirror_mode": {
    "name": "ipython",
    "version": 3
   },
   "file_extension": ".py",
   "mimetype": "text/x-python",
   "name": "python",
   "nbconvert_exporter": "python",
   "pygments_lexer": "ipython3",
   "version": "3.7.6"
  },
  "papermill": {
   "duration": 13.626612,
   "end_time": "2020-10-11T14:08:08.964791",
   "environment_variables": {},
   "exception": null,
   "input_path": "__notebook__.ipynb",
   "output_path": "__notebook__.ipynb",
   "parameters": {},
   "start_time": "2020-10-11T14:07:55.338179",
   "version": "2.1.0"
  }
 },
 "nbformat": 4,
 "nbformat_minor": 4
}
